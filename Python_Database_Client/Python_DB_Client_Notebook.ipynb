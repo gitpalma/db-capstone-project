{
 "cells": [
  {
   "cell_type": "code",
   "execution_count": 1,
   "id": "b44a757a",
   "metadata": {},
   "outputs": [
    {
     "name": "stdout",
     "output_type": "stream",
     "text": [
      "Requirement already satisfied: mysql-connector-python in c:\\users\\admin\\appdata\\local\\programs\\python\\python311\\lib\\site-packages (8.0.33)\n",
      "Requirement already satisfied: protobuf<=3.20.3,>=3.11.0 in c:\\users\\admin\\appdata\\local\\programs\\python\\python311\\lib\\site-packages (from mysql-connector-python) (3.20.3)\n"
     ]
    },
    {
     "name": "stderr",
     "output_type": "stream",
     "text": [
      "\n",
      "[notice] A new release of pip is available: 23.1.2 -> 23.2.1\n",
      "[notice] To update, run: python.exe -m pip install --upgrade pip\n"
     ]
    },
    {
     "name": "stdout",
     "output_type": "stream",
     "text": [
      "Connection between MySQL and Python is established.\n",
      "\n",
      "Cursor is created to communicate with the MySQL using Python.\n",
      "\n",
      "The database LittleLemonDB is set for use.\n",
      "\n",
      "[ Tables_in_LittleLemonDB ]\n",
      "- Bookings\n",
      "- CustomerOrderView\n",
      "- Customers\n",
      "- MenuItems\n",
      "- MenuOrderGreaterTwoView\n",
      "- Menus\n",
      "- OrderDelivery\n",
      "- Orders\n",
      "- OrdersView\n",
      "- Staff\n",
      "\n",
      "\n",
      "-- Order Greater Than 60 Report --\n",
      "('FullName', 'ContactNumber', 'Email')\n",
      "('Mario Gollini', '351258074', 'Mario.g@littlelemon.com')\n",
      "('Adrian Gollini', '351474048', 'Adrian.g@littlelemon.com')\n"
     ]
    }
   ],
   "source": [
    "!pip install mysql-connector-python\n",
    "\n",
    "# Import the MySQL Connector/Python\n",
    "import mysql.connector as connector\n",
    "\n",
    "# -------------- CHANGE THESE VALUES -------------------------\n",
    "\n",
    "HOST_NAME = \"YOUR SERVER. Ex. LOCALHOST\"    # Change this to use your own\n",
    "DB_USER = \"YOUR USERNAME\"                   # Change this to use your own\n",
    "DB_PASSWORD = \"YOUR PASSWORD\"               # Change this to use your own\n",
    "DB_NAME = \"YOUR DATABASE NAME\"              # Change this to use your own\n",
    "\n",
    "# ------------------------------------------------------------\n",
    "\n",
    "\n",
    "# Establish connection between Python and MySQL database via connector API\n",
    "connection=connector.connect(\n",
    "                             host=HOST_NAME, \n",
    "                             user=DB_USER,     \n",
    "                             password=DB_PASSWORD, \n",
    "                            )\n",
    "print(\"Connection between MySQL and Python is established.\\n\")\n",
    "\n",
    "# Create cursor object to communicate with entire MySQL database\n",
    "cursor = connection.cursor()\n",
    "print(\"Cursor is created to communicate with the MySQL using Python.\\n\")\n",
    "    \n",
    "# Set little_lemon database for use \n",
    "cursor.execute(\"USE {}\".format(DB_NAME))\n",
    "print(\"The database {} is set for use.\\n\".format(DB_NAME))\n",
    "\n",
    "# --------------------------------------------------------------\n",
    "\n",
    "show_tables_query = \"SHOW tables\" \n",
    "cursor.execute(show_tables_query)\n",
    "\n",
    "result=cursor.fetchall()\n",
    "columns=cursor.column_names\n",
    "print(\"[\",columns[0], \"]\")\n",
    "\n",
    "#Showing table names for Little Lemon Database\n",
    "for data in result:\n",
    "    print(\"-\", data[0])\n",
    "    \n",
    "print(\"\\n\")\n",
    "\n",
    "# -------------------------------------------------------------\n",
    "\n",
    "OrdersGreaterThan_60 = \"\"\"\n",
    "SELECT FullName, ContactNumber, Email \n",
    "FROM Customers\n",
    "INNER JOIN Orders ON Customers.CustomerID = Orders.CustomerID\n",
    "WHERE Orders.TotalCost > 60\n",
    "\"\"\"\n",
    "\n",
    "print(\"-- Order Greater Than 60 Report --\")\n",
    "cursor.execute(OrdersGreaterThan_60)\n",
    "result=cursor.fetchall()\n",
    "columns=cursor.column_names\n",
    "\n",
    "print(columns)\n",
    "\n",
    "#Showing Orders\n",
    "for data in result:\n",
    "    print (data)"
   ]
  },
  {
   "cell_type": "code",
   "execution_count": null,
   "id": "1259fa97",
   "metadata": {},
   "outputs": [],
   "source": []
  }
 ],
 "metadata": {
  "kernelspec": {
   "display_name": "Python 3 (ipykernel)",
   "language": "python",
   "name": "python3"
  },
  "language_info": {
   "codemirror_mode": {
    "name": "ipython",
    "version": 3
   },
   "file_extension": ".py",
   "mimetype": "text/x-python",
   "name": "python",
   "nbconvert_exporter": "python",
   "pygments_lexer": "ipython3",
   "version": "3.11.4"
  }
 },
 "nbformat": 4,
 "nbformat_minor": 5
}
